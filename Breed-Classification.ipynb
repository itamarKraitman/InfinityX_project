{
 "cells": [
  {
   "cell_type": "code",
   "execution_count": 17,
   "id": "a1b98c94",
   "metadata": {},
   "outputs": [],
   "source": [
    "import os\n",
    "import cv2\n",
    "\n",
    "import numpy as np\n",
    "import pandas as pd\n",
    "import matplotlib.pyplot as plt\n",
    "import seaborn as sns\n",
    "%matplotlib inline\n",
    "plt.style.use('seaborn')\n",
    "\n",
    "from sklearn.model_selection import train_test_split, GridSearchCV\n",
    "from sklearn.neighbors import KNeighborsClassifier\n",
    "from sklearn.metrics import classification_report"
   ]
  },
  {
   "cell_type": "code",
   "execution_count": 3,
   "id": "227e259c",
   "metadata": {},
   "outputs": [],
   "source": [
    "def load_data(data_dir, labels_map):\n",
    "    data = []\n",
    "    labels = []\n",
    "    \n",
    "    for sub_dir in os.listdir(data_dir):\n",
    "        sub_dir_path = os.path.join(data_dir, sub_dir)\n",
    "        label = labels_map[sub_dir] # each breed\n",
    "  \n",
    "        for image_filename in os.listdir(sub_dir_path):\n",
    "            image_path = os.path.join(sub_dir_path, image_filename)\n",
    "            image = cv2.imread(image_path)\n",
    "            if image is not None:\n",
    "                image_gray = image / 255.0 # gray scaling\n",
    "                image_resized = cv2.resize(image_gray, (64, 64)) # resizing\n",
    "                data.append(image_resized)\n",
    "                labels.append(label)\n",
    "        print(f\"{sub_dir} loading process is done\")\n",
    "    \n",
    "    return data, labels"
   ]
  },
  {
   "cell_type": "code",
   "execution_count": 4,
   "id": "e95b5b61",
   "metadata": {},
   "outputs": [
    {
     "name": "stdout",
     "output_type": "stream",
     "text": [
      "abyssinian loading process is done\n",
      "american_bulldog loading process is done\n",
      "american_pit_bull_terrier loading process is done\n",
      "basset_hound loading process is done\n",
      "beagle loading process is done\n",
      "bengal loading process is done\n",
      "birman loading process is done\n",
      "bombay loading process is done\n",
      "boxer loading process is done\n",
      "british_shorthair loading process is done\n",
      "chihuahua loading process is done\n",
      "egyptian_mau loading process is done\n",
      "english_cocker_spaniel loading process is done\n",
      "english_setter loading process is done\n",
      "german_shorthaired loading process is done\n",
      "great_pyrenees loading process is done\n",
      "havanese loading process is done\n",
      "japanese_chin loading process is done\n",
      "keeshond loading process is done\n",
      "leonberger loading process is done\n",
      "maine_coon loading process is done\n",
      "miniature_pinscher loading process is done\n",
      "newfoundland loading process is done\n",
      "persian loading process is done\n",
      "pomeranian loading process is done\n",
      "pug loading process is done\n",
      "ragdoll loading process is done\n",
      "russian_blue loading process is done\n",
      "saint_bernard loading process is done\n",
      "samoyed loading process is done\n",
      "scottish_terrier loading process is done\n",
      "shiba_inu loading process is done\n",
      "siamese loading process is done\n",
      "sphynx loading process is done\n",
      "staffordshire_bull_terrier loading process is done\n",
      "wheaten_terrier loading process is done\n",
      "yorkshire_terrier loading process is done\n",
      "\n",
      "Loaing process is done\n"
     ]
    }
   ],
   "source": [
    "data_dir = r'Breed-classification-dataset\\Data'\n",
    "#test_dir = r'Breed-classification-dataset\\Cats-and-Dogs-Breed-Dataset-main\\TEST'\n",
    "\n",
    "# Map contains all labels\n",
    "labels_map = {sub_dir: label for label, sub_dir in enumerate(os.listdir(data_dir))}\n",
    "\n",
    "data, data_labels = load_data(data_dir=data_dir, labels_map=labels_map)\n",
    "#test_data, test_labels = load_data(data_dir=test_dir, labels_map=labels_map)\n",
    "\n",
    "data, labels = np.array(data), np.array(data_labels)\n",
    "#test_data, test_labels = np.array(test_data), np.array(test_labels)\n",
    "\n",
    "print('\\nLoaing process is done')"
   ]
  },
  {
   "cell_type": "code",
   "execution_count": 5,
   "id": "2c996f2a",
   "metadata": {},
   "outputs": [
    {
     "data": {
      "text/html": [
       "<div>\n",
       "<style scoped>\n",
       "    .dataframe tbody tr th:only-of-type {\n",
       "        vertical-align: middle;\n",
       "    }\n",
       "\n",
       "    .dataframe tbody tr th {\n",
       "        vertical-align: top;\n",
       "    }\n",
       "\n",
       "    .dataframe thead th {\n",
       "        text-align: right;\n",
       "    }\n",
       "</style>\n",
       "<table border=\"1\" class=\"dataframe\">\n",
       "  <thead>\n",
       "    <tr style=\"text-align: right;\">\n",
       "      <th></th>\n",
       "      <th>images</th>\n",
       "      <th>labels</th>\n",
       "    </tr>\n",
       "  </thead>\n",
       "  <tbody>\n",
       "    <tr>\n",
       "      <th>0</th>\n",
       "      <td>[[[0.5933517156862745, 0.6003982843137254, 0.6...</td>\n",
       "      <td>16</td>\n",
       "    </tr>\n",
       "    <tr>\n",
       "      <th>1</th>\n",
       "      <td>[[[0.9538373161764706, 0.92255859375, 0.896220...</td>\n",
       "      <td>33</td>\n",
       "    </tr>\n",
       "    <tr>\n",
       "      <th>2</th>\n",
       "      <td>[[[0.59228515625, 0.5833505667892156, 0.540213...</td>\n",
       "      <td>34</td>\n",
       "    </tr>\n",
       "    <tr>\n",
       "      <th>3</th>\n",
       "      <td>[[[0.29218941482843136, 0.5592850030637255, 0....</td>\n",
       "      <td>1</td>\n",
       "    </tr>\n",
       "    <tr>\n",
       "      <th>4</th>\n",
       "      <td>[[[0.324868834252451, 0.5562768075980392, 0.40...</td>\n",
       "      <td>34</td>\n",
       "    </tr>\n",
       "  </tbody>\n",
       "</table>\n",
       "</div>"
      ],
      "text/plain": [
       "                                              images  labels\n",
       "0  [[[0.5933517156862745, 0.6003982843137254, 0.6...      16\n",
       "1  [[[0.9538373161764706, 0.92255859375, 0.896220...      33\n",
       "2  [[[0.59228515625, 0.5833505667892156, 0.540213...      34\n",
       "3  [[[0.29218941482843136, 0.5592850030637255, 0....       1\n",
       "4  [[[0.324868834252451, 0.5562768075980392, 0.40...      34"
      ]
     },
     "execution_count": 5,
     "metadata": {},
     "output_type": "execute_result"
    }
   ],
   "source": [
    "df = pd.DataFrame({'images': data, 'labels': labels})\n",
    "df_shuffled = df.sample(frac=1).reset_index(drop=True)\n",
    "\n",
    "df_shuffled.head()"
   ]
  },
  {
   "cell_type": "code",
   "execution_count": 25,
   "id": "2cb8d54f",
   "metadata": {},
   "outputs": [
    {
     "data": {
      "text/plain": [
       "(5884, 2)"
      ]
     },
     "execution_count": 25,
     "metadata": {},
     "output_type": "execute_result"
    }
   ],
   "source": [
    "df_shuffled.shape"
   ]
  },
  {
   "cell_type": "code",
   "execution_count": 6,
   "id": "d8a92823",
   "metadata": {},
   "outputs": [
    {
     "data": {
      "image/png": "[encoded data removed]",
      "text/plain": [
       "<Figure size 576x396 with 1 Axes>"
      ]
     },
     "metadata": {},
     "output_type": "display_data"
    }
   ],
   "source": [
    "ax = sns.countplot(y=df_shuffled['labels'], data=df_shuffled)\n",
    "\n",
    "# Annotating the count of each class\n",
    "for p in ax.patches:\n",
    "    ax.annotate(f'{p.get_height()}', (p.get_y() + p.get_height() / 2., p.get_width()),\n",
    "                ha='center', va='bottom', fontsize=12, color='black')\n",
    "\n",
    "\n",
    "plt.xlabel('Count')\n",
    "plt.ylabel('Classes')\n",
    "plt.title('Number of each class')\n",
    "\n",
    "plt.show()"
   ]
  },
  {
   "cell_type": "code",
   "execution_count": 7,
   "id": "5355bf98",
   "metadata": {},
   "outputs": [],
   "source": [
    "X, y= df_shuffled['images'].tolist(), df_shuffled['labels']\n",
    "\n",
    "train_size, val_size, test_size = 0.75, 0.15, 0.1\n",
    "\n",
    "x_train, x_test, y_train, y_test = train_test_split(X, y, test_size=1 - train_size, random_state=42)\n",
    "\n",
    "x_val, x_test, y_val, y_test = train_test_split(x_test, y_test, test_size=test_size/(test_size + val_size))"
   ]
  },
  {
   "cell_type": "code",
   "execution_count": 12,
   "id": "0ad12446",
   "metadata": {},
   "outputs": [],
   "source": [
    "# Convert the pandas Series x_train into a NumPy array\n",
    "x_train_array = np.array(x_train.tolist())\n",
    "x_val_array = np.array(x_val.tolist())\n",
    "x_test_array = np.array(x_test.tolist())\n",
    "\n",
    "# Reshape the NumPy array into a 2D format\n",
    "x_train_flattened = x_train_array.reshape(x_train_array.shape[0], -1)\n",
    "x_val_flattened = x_val_array.reshape(x_val_array.shape[0], -1)\n",
    "x_test_flattened = x_test_array.reshape(x_test_array.shape[0], -1)"
   ]
  },
  {
   "cell_type": "code",
   "execution_count": null,
   "id": "45d8cf95",
   "metadata": {},
   "outputs": [],
   "source": [
    "#param_grid = {'n_neighbors': [3,5,7,9],\n",
    " #            'weights': ['uniform', 'distance'],\n",
    "  #           'algorithm': ['auto', 'ball_tree', 'kd_tree', 'brute'],\n",
    "   #           metric': ['euclidean', 'manhattan', 'chebyshev']}\n",
    "\n",
    "# Using the extensive param_grid took a long time- I skupped it due to lack of time\n",
    "\n",
    "param_grid = {'n_neighbors': [3,5,7,9],\n",
    "             'metric': ['euclidean', 'manhattan', 'chebyshev']}\n",
    "\n",
    "knn = KNeighborsClassifier()\n",
    "grid_search = GridSearchCV(knn, param_grid, cv=5, scoring='accuracy')\n",
    "grid_search.fit(x_train_flattened, y_train)"
   ]
  },
  {
   "cell_type": "code",
   "execution_count": null,
   "id": "2b5a0784",
   "metadata": {},
   "outputs": [],
   "source": [
    "best_params = grid_search.best_params_\n",
    "print(best_params)\n",
    "print(grid_search.best_score_)\n",
    "\n",
    "knn_best = grid_search.best_estimator_\n",
    "knn_best.fit(x_train_flattened, y_train)"
   ]
  },
  {
   "cell_type": "code",
   "execution_count": null,
   "id": "c66e2bec",
   "metadata": {},
   "outputs": [],
   "source": [
    "val_accuracy = knn_best.score(x_val_flattened, y_val)\n",
    "print(f\"Val accuracy: {val_accuracy:.2f}\")"
   ]
  },
  {
   "cell_type": "code",
   "execution_count": null,
   "id": "cc524c6a",
   "metadata": {},
   "outputs": [],
   "source": [
    "prediction = knn_best.predict(x_test_flattened)\n",
    "predicted_labels = (prediction > 0.5).astype(int)\n",
    "\n",
    "print(classification_report(y_true=y_test, y_pred=predicted_labels))"
   ]
  },
  {
   "cell_type": "code",
   "execution_count": null,
   "id": "1634e9bd",
   "metadata": {},
   "outputs": [],
   "source": []
  }
 ],
 "metadata": {
  "kernelspec": {
   "display_name": "Python 3 (ipykernel)",
   "language": "python",
   "name": "python3"
  },
  "language_info": {
   "codemirror_mode": {
    "name": "ipython",
    "version": 3
   },
   "file_extension": ".py",
   "mimetype": "text/x-python",
   "name": "python",
   "nbconvert_exporter": "python",
   "pygments_lexer": "ipython3",
   "version": "3.9.7"
  }
 },
 "nbformat": 4,
 "nbformat_minor": 5
}
