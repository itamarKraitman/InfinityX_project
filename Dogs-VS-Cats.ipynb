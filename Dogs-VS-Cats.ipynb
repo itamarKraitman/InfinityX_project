{
 "cells": [
  {
   "cell_type": "code",
   "execution_count": 18,
   "id": "bb909f36",
   "metadata": {
    "is_executing": true
   },
   "outputs": [],
   "source": [
    "import os\n",
    "import cv2\n",
    "import random\n",
    "\n",
    "import numpy as np\n",
    "import pandas as pd\n",
    "import seaborn as sns\n",
    "import matplotlib.pyplot as plt\n",
    "%matplotlib inline\n",
    "plt.style.use('seaborn')\n",
    "\n",
    "from sklearn.model_selection import train_test_split\n",
    "from sklearn.metrics import accuracy_score, classification_report, confusion_matrix\n",
    "import tensorflow as tf\n",
    "from keras.models import Sequential, load_model\n",
    "from keras.layers import Conv2D,MaxPooling2D, Dropout,Flatten,Dense,Activation, BatchNormalization\n",
    "from keras.callbacks import EarlyStopping, ReduceLROnPlateau"
   ]
  },
  {
   "cell_type": "markdown",
   "id": "1d2788b5",
   "metadata": {},
   "source": [
    "### Loading the Data"
   ]
  },
  {
   "cell_type": "code",
   "execution_count": 2,
   "id": "79affa1a",
   "metadata": {},
   "outputs": [
    {
     "name": "stdout",
     "output_type": "stream",
     "text": [
      "PetImages\\\\Cat loading process is done\n",
      "PetImages\\\\Dog loading process is done\n",
      "Loaing process is done\n"
     ]
    }
   ],
   "source": [
    "data_dir = r'PetImages\\\\'\n",
    "\n",
    "data = []\n",
    "labels = []\n",
    "\n",
    "labels_map = {'Cat': 1, 'Dog': 0}\n",
    "\n",
    "for sub_dir in os.listdir(data_dir):\n",
    "    sub_dir_path = os.path.join(data_dir, sub_dir)\n",
    "    label = labels_map[sub_dir] # Cats or Dogs\n",
    "    \n",
    "    for image_filename in os.listdir(sub_dir_path):\n",
    "        image_path = os.path.join(sub_dir_path, image_filename)\n",
    "        \n",
    "        image = cv2.imread(image_path)\n",
    "        if image is not None:\n",
    "            image_gray = image / 255.0 # gray scaling\n",
    "            image_resized = cv2.resize(image_gray, (128, 128)) # resizing\n",
    "            data.append(image_resized)\n",
    "            labels.append(label)\n",
    "    print(f\"{sub_dir_path} loading process is done\")\n",
    "        \n",
    "data = np.array(data)\n",
    "labels = np.array(labels)\n",
    "\n",
    "print('Loaing process is done')"
   ]
  },
  {
   "cell_type": "markdown",
   "id": "70d22712",
   "metadata": {},
   "source": [
    "### Creating DataFrame"
   ]
  },
  {
   "cell_type": "code",
   "execution_count": 3,
   "id": "2ab1ae94",
   "metadata": {},
   "outputs": [],
   "source": [
    "df = pd.DataFrame({'images': list(data), 'label': labels})\n",
    "df_shuffled = df.sample(frac=1).reset_index(drop=True)"
   ]
  },
  {
   "cell_type": "code",
   "execution_count": 4,
   "id": "0d832467",
   "metadata": {},
   "outputs": [
    {
     "data": {
      "text/html": [
       "<div>\n",
       "<style scoped>\n",
       "    .dataframe tbody tr th:only-of-type {\n",
       "        vertical-align: middle;\n",
       "    }\n",
       "\n",
       "    .dataframe tbody tr th {\n",
       "        vertical-align: top;\n",
       "    }\n",
       "\n",
       "    .dataframe thead th {\n",
       "        text-align: right;\n",
       "    }\n",
       "</style>\n",
       "<table border=\"1\" class=\"dataframe\">\n",
       "  <thead>\n",
       "    <tr style=\"text-align: right;\">\n",
       "      <th></th>\n",
       "      <th>images</th>\n",
       "      <th>label</th>\n",
       "    </tr>\n",
       "  </thead>\n",
       "  <tbody>\n",
       "    <tr>\n",
       "      <th>0</th>\n",
       "      <td>[[[0.19548268037683825, 0.19156111174938728, 0...</td>\n",
       "      <td>1</td>\n",
       "    </tr>\n",
       "    <tr>\n",
       "      <th>1</th>\n",
       "      <td>[[[0.7278186274509804, 0.7082107843137255, 0.7...</td>\n",
       "      <td>0</td>\n",
       "    </tr>\n",
       "    <tr>\n",
       "      <th>2</th>\n",
       "      <td>[[[0.48418136297487746, 0.5194754806219363, 0....</td>\n",
       "      <td>0</td>\n",
       "    </tr>\n",
       "    <tr>\n",
       "      <th>3</th>\n",
       "      <td>[[[0.9912324793198529, 0.9868487189797794, 0.9...</td>\n",
       "      <td>0</td>\n",
       "    </tr>\n",
       "    <tr>\n",
       "      <th>4</th>\n",
       "      <td>[[[0.07364424163219976, 0.14784306544883577, 0...</td>\n",
       "      <td>1</td>\n",
       "    </tr>\n",
       "  </tbody>\n",
       "</table>\n",
       "</div>"
      ],
      "text/plain": [
       "                                              images  label\n",
       "0  [[[0.19548268037683825, 0.19156111174938728, 0...      1\n",
       "1  [[[0.7278186274509804, 0.7082107843137255, 0.7...      0\n",
       "2  [[[0.48418136297487746, 0.5194754806219363, 0....      0\n",
       "3  [[[0.9912324793198529, 0.9868487189797794, 0.9...      0\n",
       "4  [[[0.07364424163219976, 0.14784306544883577, 0...      1"
      ]
     },
     "execution_count": 4,
     "metadata": {},
     "output_type": "execute_result"
    }
   ],
   "source": [
    "df_shuffled.head()"
   ]
  },
  {
   "cell_type": "code",
   "execution_count": 5,
   "id": "d2b10529",
   "metadata": {},
   "outputs": [
    {
     "data": {
      "image/png": "[encoded data removed]",
      "text/plain": [
       "<Figure size 576x396 with 1 Axes>"
      ]
     },
     "metadata": {},
     "output_type": "display_data"
    }
   ],
   "source": [
    "ax = sns.countplot(x=df_shuffled['label'].map({0: 'Cats', 1: 'Dogs'}), data=df_shuffled)\n",
    "\n",
    "# Annotating the count of each class\n",
    "for p in ax.patches:\n",
    "    ax.annotate(f'{p.get_height()}', (p.get_x() + p.get_width() / 2., p.get_height() / 2.),\n",
    "                ha='center', va='bottom', fontsize=12, color='black')\n",
    "\n",
    "\n",
    "plt.xlabel('Classes')\n",
    "plt.ylabel('Count')\n",
    "plt.title('Number of Cats and Dogs')\n",
    "\n",
    "plt.show()"
   ]
  },
  {
   "cell_type": "markdown",
   "id": "deb32aac",
   "metadata": {},
   "source": [
    "### NOTE-> Did not perfrom Data Augmentation due to decrease in accuracy"
   ]
  },
  {
   "cell_type": "markdown",
   "id": "b8dfd60b",
   "metadata": {},
   "source": [
    "### Train Test Split"
   ]
  },
  {
   "cell_type": "code",
   "execution_count": 9,
   "id": "da6ab4a9",
   "metadata": {},
   "outputs": [],
   "source": [
    "X, y= df_shuffled['images'], df_shuffled['label']\n",
    "\n",
    "train_size, val_size, test_size = 0.75, 0.15, 0.1\n",
    "\n",
    "x_train, x_test, y_train, y_test = train_test_split(X, y, test_size=1 - train_size, random_state=42)\n",
    "\n",
    "x_val, x_test, y_val, y_test = train_test_split(x_test, y_test, test_size=test_size/(test_size + val_size))"
   ]
  },
  {
   "cell_type": "code",
   "execution_count": 10,
   "id": "947b6429",
   "metadata": {},
   "outputs": [
    {
     "name": "stdout",
     "output_type": "stream",
     "text": [
      "0.749979956706486 0.1000160346348112 0.1500040086587028\n"
     ]
    }
   ],
   "source": [
    "# Maikng sure that the data is splitted correctly\n",
    "print(x_train.shape[0] / len(X), x_test.shape[0] / len(X), x_val.shape[0] / len(X))"
   ]
  },
  {
   "cell_type": "markdown",
   "id": "321d8eeb",
   "metadata": {},
   "source": [
    "### Training "
   ]
  },
  {
   "cell_type": "code",
   "execution_count": 11,
   "id": "2b2e298c",
   "metadata": {},
   "outputs": [],
   "source": [
    "model = Sequential()\n",
    "\n",
    "model.add(Conv2D(32,(3,3),activation='relu',input_shape=(128, 128, 3)))\n",
    "model.add(BatchNormalization())\n",
    "model.add(MaxPooling2D(pool_size=(2,2)))\n",
    "model.add(Dropout(0.25))\n",
    "\n",
    "model.add(Conv2D(64,(3,3),activation='relu'))\n",
    "model.add(BatchNormalization())\n",
    "model.add(MaxPooling2D(pool_size=(2,2)))\n",
    "model.add(Dropout(0.25))\n",
    "\n",
    "model.add(Conv2D(128,(3,3),activation='relu'))\n",
    "model.add(BatchNormalization())\n",
    "model.add(MaxPooling2D(pool_size=(2,2)))\n",
    "model.add(Dropout(0.25))\n",
    "model.add(Flatten())\n",
    "\n",
    "model.add(Dense(512,activation='relu'))\n",
    "model.add(BatchNormalization())#\n",
    "model.add(Dropout(0.5))\n",
    "\n",
    "model.add(Dense(1,activation='sigmoid'))\n",
    "\n",
    "model.compile(loss='binary_crossentropy',\n",
    "  optimizer='adam',metrics=['accuracy'])"
   ]
  },
  {
   "cell_type": "code",
   "execution_count": 12,
   "id": "928e3a55",
   "metadata": {},
   "outputs": [
    {
     "name": "stdout",
     "output_type": "stream",
     "text": [
      "Model: \"sequential\"\n",
      "_________________________________________________________________\n",
      " Layer (type)                Output Shape              Param #   \n",
      "=================================================================\n",
      " conv2d (Conv2D)             (None, 126, 126, 32)      896       \n",
      "                                                                 \n",
      " batch_normalization (BatchN  (None, 126, 126, 32)     128       \n",
      " ormalization)                                                   \n",
      "                                                                 \n",
      " max_pooling2d (MaxPooling2D  (None, 63, 63, 32)       0         \n",
      " )                                                               \n",
      "                                                                 \n",
      " dropout (Dropout)           (None, 63, 63, 32)        0         \n",
      "                                                                 \n",
      " conv2d_1 (Conv2D)           (None, 61, 61, 64)        18496     \n",
      "                                                                 \n",
      " batch_normalization_1 (Batc  (None, 61, 61, 64)       256       \n",
      " hNormalization)                                                 \n",
      "                                                                 \n",
      " max_pooling2d_1 (MaxPooling  (None, 30, 30, 64)       0         \n",
      " 2D)                                                             \n",
      "                                                                 \n",
      " dropout_1 (Dropout)         (None, 30, 30, 64)        0         \n",
      "                                                                 \n",
      " conv2d_2 (Conv2D)           (None, 28, 28, 128)       73856     \n",
      "                                                                 \n",
      " batch_normalization_2 (Batc  (None, 28, 28, 128)      512       \n",
      " hNormalization)                                                 \n",
      "                                                                 \n",
      " max_pooling2d_2 (MaxPooling  (None, 14, 14, 128)      0         \n",
      " 2D)                                                             \n",
      "                                                                 \n",
      " dropout_2 (Dropout)         (None, 14, 14, 128)       0         \n",
      "                                                                 \n",
      " flatten (Flatten)           (None, 25088)             0         \n",
      "                                                                 \n",
      " dense (Dense)               (None, 512)               12845568  \n",
      "                                                                 \n",
      " batch_normalization_3 (Batc  (None, 512)              2048      \n",
      " hNormalization)                                                 \n",
      "                                                                 \n",
      " dropout_3 (Dropout)         (None, 512)               0         \n",
      "                                                                 \n",
      " dense_1 (Dense)             (None, 1)                 513       \n",
      "                                                                 \n",
      "=================================================================\n",
      "Total params: 12,942,273\n",
      "Trainable params: 12,940,801\n",
      "Non-trainable params: 1,472\n",
      "_________________________________________________________________\n"
     ]
    }
   ],
   "source": [
    "model.summary()"
   ]
  },
  {
   "cell_type": "markdown",
   "id": "ee871d5a",
   "metadata": {},
   "source": [
    "##### Defining Early Stops and Learning Rate Reduction Actions"
   ]
  },
  {
   "cell_type": "code",
   "execution_count": 13,
   "id": "d6cd1c55",
   "metadata": {},
   "outputs": [],
   "source": [
    "# Defining early stop action, if val loss does not improve for 3 epochs\n",
    "earlystop = EarlyStopping(patience = 3) \n",
    "# Defining learning rate reduction action, if the val accuracy stops improving for 2 epochs\n",
    "learning_rate_reduction = ReduceLROnPlateau(monitor = 'val_accuracy',patience = 2,verbose = 1,factor = 0.5,min_lr = 0.00001)\n",
    "callbacks = [earlystop,learning_rate_reduction]"
   ]
  },
  {
   "cell_type": "markdown",
   "id": "fc063db0",
   "metadata": {},
   "source": [
    "##### Training"
   ]
  },
  {
   "cell_type": "code",
   "execution_count": 14,
   "id": "e95e40ac",
   "metadata": {},
   "outputs": [
    {
     "name": "stdout",
     "output_type": "stream",
     "text": [
      "Epoch 1/10\n",
      "585/585 [==============================] - 336s 569ms/step - loss: 0.6781 - accuracy: 0.6633 - val_loss: 0.6988 - val_accuracy: 0.6678 - lr: 0.0010\n",
      "Epoch 2/10\n",
      "585/585 [==============================] - 340s 581ms/step - loss: 0.5073 - accuracy: 0.7509 - val_loss: 0.4782 - val_accuracy: 0.7702 - lr: 0.0010\n",
      "Epoch 3/10\n",
      "585/585 [==============================] - 334s 572ms/step - loss: 0.4327 - accuracy: 0.7969 - val_loss: 0.5389 - val_accuracy: 0.7357 - lr: 0.0010\n",
      "Epoch 4/10\n",
      "585/585 [==============================] - ETA: 0s - loss: 0.3892 - accuracy: 0.8242\n",
      "Epoch 4: ReduceLROnPlateau reducing learning rate to 0.0005000000237487257.\n",
      "585/585 [==============================] - 332s 567ms/step - loss: 0.3892 - accuracy: 0.8242 - val_loss: 0.5420 - val_accuracy: 0.7389 - lr: 0.0010\n",
      "Epoch 5/10\n",
      "585/585 [==============================] - 327s 558ms/step - loss: 0.3120 - accuracy: 0.8658 - val_loss: 0.4805 - val_accuracy: 0.7905 - lr: 5.0000e-04\n",
      "Epoch 6/10\n",
      "585/585 [==============================] - 313s 535ms/step - loss: 0.2637 - accuracy: 0.8876 - val_loss: 0.3866 - val_accuracy: 0.8421 - lr: 5.0000e-04\n",
      "Epoch 7/10\n",
      "585/585 [==============================] - 317s 542ms/step - loss: 0.2296 - accuracy: 0.9052 - val_loss: 0.5566 - val_accuracy: 0.8084 - lr: 5.0000e-04\n",
      "Epoch 8/10\n",
      "585/585 [==============================] - 314s 537ms/step - loss: 0.2038 - accuracy: 0.9169 - val_loss: 0.3367 - val_accuracy: 0.8781 - lr: 5.0000e-04\n",
      "Epoch 9/10\n",
      "585/585 [==============================] - 314s 537ms/step - loss: 0.1751 - accuracy: 0.9305 - val_loss: 0.4356 - val_accuracy: 0.8474 - lr: 5.0000e-04\n",
      "Epoch 10/10\n",
      "585/585 [==============================] - ETA: 0s - loss: 0.1423 - accuracy: 0.9438\n",
      "Epoch 10: ReduceLROnPlateau reducing learning rate to 0.0002500000118743628.\n",
      "585/585 [==============================] - 323s 552ms/step - loss: 0.1423 - accuracy: 0.9438 - val_loss: 0.4216 - val_accuracy: 0.8477 - lr: 5.0000e-04\n"
     ]
    },
    {
     "data": {
      "text/plain": [
       "<keras.callbacks.History at 0x1ec651da8e0>"
      ]
     },
     "execution_count": 14,
     "metadata": {},
     "output_type": "execute_result"
    }
   ],
   "source": [
    "model.fit(x=np.stack(x_train), y=y_train, epochs=10, validation_data=(np.stack(x_val), y_val), callbacks=callbacks)"
   ]
  },
  {
   "cell_type": "markdown",
   "id": "6e24aad7",
   "metadata": {},
   "source": [
    "### Saving"
   ]
  },
  {
   "cell_type": "code",
   "execution_count": 32,
   "id": "b3555b5c",
   "metadata": {},
   "outputs": [],
   "source": [
    "model.save(\"cats-dogs_classification.h5\")"
   ]
  },
  {
   "cell_type": "markdown",
   "id": "c7121617",
   "metadata": {},
   "source": [
    "### Testing"
   ]
  },
  {
   "cell_type": "code",
   "execution_count": null,
   "id": "866f260c",
   "metadata": {},
   "outputs": [],
   "source": [
    "loaded_model = load_model(\"cats-dogs_classification.h5\")"
   ]
  },
  {
   "cell_type": "code",
   "execution_count": 36,
   "id": "011a4a91",
   "metadata": {},
   "outputs": [
    {
     "name": "stdout",
     "output_type": "stream",
     "text": [
      "78/78 [==============================] - 14s 185ms/step\n"
     ]
    }
   ],
   "source": [
    "predictions = loaded_model.predict(x=np.stack(x_test))\n",
    "predicted_labels = (predictions > 0.5).astype(int)"
   ]
  },
  {
   "cell_type": "markdown",
   "id": "bbb81797",
   "metadata": {},
   "source": [
    "### Evaluating"
   ]
  },
  {
   "cell_type": "code",
   "execution_count": 28,
   "id": "ff7d5d00",
   "metadata": {},
   "outputs": [
    {
     "name": "stdout",
     "output_type": "stream",
     "text": [
      "78/78 [==============================] - 15s 187ms/step - loss: 0.4133 - accuracy: 0.8485\n",
      "Loss is: 0.4133108854293823 \n",
      "Accuracy is: 0.8484969735145569\n"
     ]
    }
   ],
   "source": [
    "loss, accuracy= loaded_model.evaluate(x=np.stack(x_test), y=y_test)\n",
    "\n",
    "print(f\"Loss is: {loss} \\nAccuracy is: {accuracy}\")"
   ]
  },
  {
   "cell_type": "code",
   "execution_count": 29,
   "id": "72f56157",
   "metadata": {
    "scrolled": true
   },
   "outputs": [
    {
     "name": "stdout",
     "output_type": "stream",
     "text": [
      "              precision    recall  f1-score   support\n",
      "\n",
      "           0       0.91      0.77      0.83      1239\n",
      "           1       0.80      0.93      0.86      1256\n",
      "\n",
      "    accuracy                           0.85      2495\n",
      "   macro avg       0.86      0.85      0.85      2495\n",
      "weighted avg       0.86      0.85      0.85      2495\n",
      "\n"
     ]
    }
   ],
   "source": [
    "print(classification_report(y_true=y_test, y_pred=predicted_labels))"
   ]
  },
  {
   "cell_type": "code",
   "execution_count": 30,
   "id": "e46d02de",
   "metadata": {
    "scrolled": false
   },
   "outputs": [
    {
     "data": {
      "image/png": "[encoded data removed]",
      "text/plain": [
       "<Figure size 576x396 with 2 Axes>"
      ]
     },
     "metadata": {},
     "output_type": "display_data"
    }
   ],
   "source": [
    "log_matrix= confusion_matrix(y_true=y_test,y_pred=predicted_labels)\n",
    "group_names = ['True Neg','False Pos','False Neg','True Pos']\n",
    "group_counts = [\"{0:0.0f}\".format(value) for value in log_matrix.flatten()]\n",
    "group_percent = [\"{0:.2%}\".format(value) for value in log_matrix.flatten()/np.sum(log_matrix)]\n",
    "\n",
    "labels = [[f\"{v1}\\n{v2}\\n{v3}\" for v1, v2, v3 in\n",
    "          zip(group_names,group_counts,group_percent)]]\n",
    "labels = np.asarray(labels).reshape(2,2)\n",
    "\n",
    "sns.heatmap(log_matrix,annot=labels, fmt='', cmap='Blues')\n",
    "\n",
    "plt.show()"
   ]
  },
  {
   "cell_type": "code",
   "execution_count": null,
   "id": "48113b8b",
   "metadata": {},
   "outputs": [],
   "source": []
  }
 ],
 "metadata": {
  "kernelspec": {
   "display_name": "Python 3 (ipykernel)",
   "language": "python",
   "name": "python3"
  },
  "language_info": {
   "codemirror_mode": {
    "name": "ipython",
    "version": 3
   },
   "file_extension": ".py",
   "mimetype": "text/x-python",
   "name": "python",
   "nbconvert_exporter": "python",
   "pygments_lexer": "ipython3",
   "version": "3.9.7"
  }
 },
 "nbformat": 4,
 "nbformat_minor": 5
}
